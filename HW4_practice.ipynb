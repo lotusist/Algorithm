{
  "nbformat": 4,
  "nbformat_minor": 0,
  "metadata": {
    "colab": {
      "name": "HW4_practice.ipynb",
      "provenance": [],
      "collapsed_sections": [],
      "authorship_tag": "ABX9TyNslKdq/njEINUvSRQj8Zb1"
    },
    "kernelspec": {
      "name": "python3",
      "display_name": "Python 3"
    },
    "language_info": {
      "name": "python"
    }
  },
  "cells": [
    {
      "cell_type": "markdown",
      "source": [
        "문제 1.\n",
        "정수(int)로만 구성된 리스트를 변수(argument)로 받고, 그중 두 번 이상 반복되는 정수의 집합(set)을 리턴하는 함수를 작성하시오."
      ],
      "metadata": {
        "id": "UggHWV7w6-OT"
      }
    },
    {
      "cell_type": "code",
      "execution_count": null,
      "metadata": {
        "id": "pBOEc76k8aSV"
      },
      "outputs": [],
      "source": [
        "def P1(lst: list) -> set:\n",
        "    counts = []\n",
        "    for element in lst:\n",
        "        if lst.count(element) > 1:\n",
        "          counts.append(element)\n",
        "    set_counts = set(counts)\n",
        "\n",
        "    return set_counts"
      ]
    },
    {
      "cell_type": "code",
      "source": [
        "P1([1, 2, 3, 1])"
      ],
      "metadata": {
        "colab": {
          "base_uri": "https://localhost:8080/"
        },
        "id": "97A6hZ7k8esP",
        "outputId": "dda70ba3-c6a1-4384-e0ad-92da3001c71e"
      },
      "execution_count": null,
      "outputs": [
        {
          "output_type": "execute_result",
          "data": {
            "text/plain": [
              "{1}"
            ]
          },
          "metadata": {},
          "execution_count": 7
        }
      ]
    },
    {
      "cell_type": "code",
      "source": [
        "P1([1, 1, 2, 3, 3, 3])"
      ],
      "metadata": {
        "colab": {
          "base_uri": "https://localhost:8080/"
        },
        "id": "veqLwlwr8kwQ",
        "outputId": "6a58c4ce-f816-4cea-8e00-a946d60dfb80"
      },
      "execution_count": null,
      "outputs": [
        {
          "output_type": "execute_result",
          "data": {
            "text/plain": [
              "{1, 3}"
            ]
          },
          "metadata": {},
          "execution_count": 8
        }
      ]
    },
    {
      "cell_type": "code",
      "source": [
        "P1([1, 2, 3, 4, 5]) "
      ],
      "metadata": {
        "colab": {
          "base_uri": "https://localhost:8080/"
        },
        "id": "Df54f9YJ9Naw",
        "outputId": "2cff6da1-2ac2-4a19-987b-0c38e071c945"
      },
      "execution_count": null,
      "outputs": [
        {
          "output_type": "execute_result",
          "data": {
            "text/plain": [
              "set()"
            ]
          },
          "metadata": {},
          "execution_count": 9
        }
      ]
    },
    {
      "cell_type": "markdown",
      "source": [
        "문제 2. \n",
        "길이가 같은 리스트 두 개를 변수(arguments)로 받고, 같은 인덱스를 갖는 원소끼리 짝지은 튜플(tuple)의 집합(set)을 리턴하는 함수를 작성하시오. "
      ],
      "metadata": {
        "id": "7Rnj-1jI7Daa"
      }
    },
    {
      "cell_type": "code",
      "source": [
        "def P2(lst1: list, lst2: list) -> set:\n",
        "    output_list = []\n",
        "    for i in range(len(lst1)):\n",
        "        output_list.append((lst1[i], lst2[i]))\n",
        "    output_set = set(output_list)\n",
        "\n",
        "    return output_set"
      ],
      "metadata": {
        "id": "tIJB4aJU9ZjG"
      },
      "execution_count": null,
      "outputs": []
    },
    {
      "cell_type": "code",
      "source": [
        "P2(['red', 'yellow', 'purple'], ['apple', 'banana', 'grape'])"
      ],
      "metadata": {
        "colab": {
          "base_uri": "https://localhost:8080/"
        },
        "id": "X7r2FKfP-va7",
        "outputId": "c366f11c-1ee4-4e1a-c0f5-5d0f8a016c17"
      },
      "execution_count": null,
      "outputs": [
        {
          "output_type": "execute_result",
          "data": {
            "text/plain": [
              "{('purple', 'grape'), ('red', 'apple'), ('yellow', 'banana')}"
            ]
          },
          "metadata": {},
          "execution_count": 19
        }
      ]
    },
    {
      "cell_type": "code",
      "source": [
        "P2([1, 2, 3], ['computer', 'keyboard', 'mouse'])"
      ],
      "metadata": {
        "colab": {
          "base_uri": "https://localhost:8080/"
        },
        "id": "ZCZHNehp-yiM",
        "outputId": "11949dd2-06f0-4787-9417-95d817847a2a"
      },
      "execution_count": null,
      "outputs": [
        {
          "output_type": "execute_result",
          "data": {
            "text/plain": [
              "{(1, 'computer'), (2, 'keyboard'), (3, 'mouse')}"
            ]
          },
          "metadata": {},
          "execution_count": 20
        }
      ]
    },
    {
      "cell_type": "code",
      "source": [
        "P2([], [])"
      ],
      "metadata": {
        "colab": {
          "base_uri": "https://localhost:8080/"
        },
        "id": "Kg3TSz-i_bu8",
        "outputId": "1e8e3b40-ff77-4bb4-cf51-5b1b079d4f65"
      },
      "execution_count": null,
      "outputs": [
        {
          "output_type": "execute_result",
          "data": {
            "text/plain": [
              "set()"
            ]
          },
          "metadata": {},
          "execution_count": 21
        }
      ]
    },
    {
      "cell_type": "markdown",
      "source": [
        "문제 3. \n",
        "딕셔너리(dictionary)의 key는 unique함이 보장되지만, value는 그렇지 않다. \n",
        "하나의 딕셔너리를 변수(argument)로 받고, 그것에 포함된 “distinct values”의 수를 리턴하는 함수를 작성하시오."
      ],
      "metadata": {
        "id": "d2gszOvw7INx"
      }
    },
    {
      "cell_type": "code",
      "source": [
        "def P3(dct: dict) -> int:\n",
        "    tmp_set = set(dct.values())\n",
        "    output = len(tmp_set)\n",
        "    return output"
      ],
      "metadata": {
        "id": "3eEt4U3X_vW3"
      },
      "execution_count": null,
      "outputs": []
    },
    {
      "cell_type": "code",
      "source": [
        "P3({'red': 1, 'green': 1, 'blue': 2})"
      ],
      "metadata": {
        "colab": {
          "base_uri": "https://localhost:8080/"
        },
        "id": "egaaQ6KJA3P8",
        "outputId": "9a925bb3-ef87-44a0-cd97-bbf975d500a0"
      },
      "execution_count": null,
      "outputs": [
        {
          "output_type": "execute_result",
          "data": {
            "text/plain": [
              "2"
            ]
          },
          "metadata": {},
          "execution_count": 33
        }
      ]
    },
    {
      "cell_type": "code",
      "source": [
        "P3({(1,2): 'a', 'g': 3, 1: True})"
      ],
      "metadata": {
        "colab": {
          "base_uri": "https://localhost:8080/"
        },
        "id": "USfVAlofA8ak",
        "outputId": "308fb995-cc45-4419-f0c5-fdc4673797b4"
      },
      "execution_count": null,
      "outputs": [
        {
          "output_type": "execute_result",
          "data": {
            "text/plain": [
              "3"
            ]
          },
          "metadata": {},
          "execution_count": 34
        }
      ]
    },
    {
      "cell_type": "code",
      "source": [
        "P3(dict())"
      ],
      "metadata": {
        "colab": {
          "base_uri": "https://localhost:8080/"
        },
        "id": "IXtIRkJLBCRa",
        "outputId": "2cc1b122-6ba3-4f12-dd47-2209c3196705"
      },
      "execution_count": null,
      "outputs": [
        {
          "output_type": "execute_result",
          "data": {
            "text/plain": [
              "0"
            ]
          },
          "metadata": {},
          "execution_count": 35
        }
      ]
    },
    {
      "cell_type": "code",
      "source": [
        "P3({'a': True, 'b': True, 'c': True})"
      ],
      "metadata": {
        "colab": {
          "base_uri": "https://localhost:8080/"
        },
        "id": "s-3sJ1MkCxQo",
        "outputId": "a1b2887b-3523-4b93-bac8-62e02225dfda"
      },
      "execution_count": null,
      "outputs": [
        {
          "output_type": "execute_result",
          "data": {
            "text/plain": [
              "1"
            ]
          },
          "metadata": {},
          "execution_count": 36
        }
      ]
    },
    {
      "cell_type": "markdown",
      "source": [
        "문제 4. \n",
        "일련의 실험을 수행한 후, 특정 다섯 종류의 아원자 입자(subatomic particles)를 탐지할 확률을 {str: float} 딕셔너리 형태로 다음과 같이 저장했다.\n",
        "{'neutron': 0.55, ‘proton': 0.21, 'meson': 0.03, 'muon': 0.07, 'neutrino': 0.14}\n",
        "이러한 딕셔너리를 변수(argument)로 받아 탐지 가능성이 가장 큰 입자를 리턴하는 함수를 작성하시오. "
      ],
      "metadata": {
        "id": "BwrFCybe7MVc"
      }
    },
    {
      "cell_type": "code",
      "source": [
        "def P4(dct: dict) -> str:\n",
        "    for k in dct:\n",
        "      if dct[k] == max(dct.values()):\n",
        "        output = k\n",
        "    return output"
      ],
      "metadata": {
        "id": "DKJPgDG0Czw5"
      },
      "execution_count": null,
      "outputs": []
    },
    {
      "cell_type": "code",
      "source": [
        "P4({'neutron': 0.55, 'proton': 0.21, 'meson': 0.03, 'muon': 0.07, 'neutrino': 0.14})"
      ],
      "metadata": {
        "colab": {
          "base_uri": "https://localhost:8080/",
          "height": 35
        },
        "id": "owhqhd64EYfW",
        "outputId": "dbe87182-7fd8-4858-fc07-26e9607714ea"
      },
      "execution_count": null,
      "outputs": [
        {
          "output_type": "execute_result",
          "data": {
            "text/plain": [
              "'neutron'"
            ],
            "application/vnd.google.colaboratory.intrinsic+json": {
              "type": "string"
            }
          },
          "metadata": {},
          "execution_count": 9
        }
      ]
    },
    {
      "cell_type": "code",
      "source": [
        "P4({'neutron': 0.11, 'proton': 0.21, 'meson': 0.05, 'muon': 0.09, 'neutrino': 0.12})"
      ],
      "metadata": {
        "colab": {
          "base_uri": "https://localhost:8080/",
          "height": 35
        },
        "id": "NhZSUUaLEa9O",
        "outputId": "b146f75c-4034-4092-fdd2-3f7560274eb1"
      },
      "execution_count": null,
      "outputs": [
        {
          "output_type": "execute_result",
          "data": {
            "text/plain": [
              "'proton'"
            ],
            "application/vnd.google.colaboratory.intrinsic+json": {
              "type": "string"
            }
          },
          "metadata": {},
          "execution_count": 10
        }
      ]
    },
    {
      "cell_type": "markdown",
      "source": [
        "문제 5. \n",
        "딕셔너리를 변수(argument)로 받아 두 번 이상 나타나는 value를 리스트로 저장하여 리턴하는 함수를 작성하시오. "
      ],
      "metadata": {
        "id": "1s8_n17u7RWq"
      }
    },
    {
      "cell_type": "code",
      "source": [
        "def P5(dct: dict) -> list:\n",
        "    value_list= list(dct.values())\n",
        "    tmp_output = []\n",
        "    for value in value_list:\n",
        "      if value_list.count(value) > 1:\n",
        "        tmp_output.append(value)\n",
        "    output = list(set(tmp_output))\n",
        "\n",
        "    return output"
      ],
      "metadata": {
        "id": "pDLBODZ4EdlO"
      },
      "execution_count": null,
      "outputs": []
    },
    {
      "cell_type": "code",
      "source": [
        "P5({'red': 1, 'green': 1, 'blue': 2})"
      ],
      "metadata": {
        "colab": {
          "base_uri": "https://localhost:8080/"
        },
        "id": "SaSPFKmFGoff",
        "outputId": "0694a1b2-5dc7-420d-a526-0e58fd52b9e4"
      },
      "execution_count": null,
      "outputs": [
        {
          "output_type": "execute_result",
          "data": {
            "text/plain": [
              "[1]"
            ]
          },
          "metadata": {},
          "execution_count": 2
        }
      ]
    },
    {
      "cell_type": "code",
      "source": [
        "P5({'r': 'a', 'g': 'b', 'b': 'c'})"
      ],
      "metadata": {
        "colab": {
          "base_uri": "https://localhost:8080/"
        },
        "id": "Vv85HZmyMO1w",
        "outputId": "99c8bbe9-b642-4773-d3bc-008adb70bc87"
      },
      "execution_count": null,
      "outputs": [
        {
          "output_type": "execute_result",
          "data": {
            "text/plain": [
              "[]"
            ]
          },
          "metadata": {},
          "execution_count": 3
        }
      ]
    },
    {
      "cell_type": "code",
      "source": [
        "P5({'a': True, 'b': True, 'c': 2, 'd': 2})"
      ],
      "metadata": {
        "colab": {
          "base_uri": "https://localhost:8080/"
        },
        "id": "J3g0EgxEPSD8",
        "outputId": "0bc152b5-1e53-4afa-bdd6-1c74e2228ee7"
      },
      "execution_count": null,
      "outputs": [
        {
          "output_type": "execute_result",
          "data": {
            "text/plain": [
              "[True, 2]"
            ]
          },
          "metadata": {},
          "execution_count": 4
        }
      ]
    },
    {
      "cell_type": "code",
      "source": [
        "P5(dict())"
      ],
      "metadata": {
        "colab": {
          "base_uri": "https://localhost:8080/"
        },
        "id": "62YYcJi5PWUK",
        "outputId": "615bead6-ef1a-4165-a487-248e103b41e5"
      },
      "execution_count": null,
      "outputs": [
        {
          "output_type": "execute_result",
          "data": {
            "text/plain": [
              "[]"
            ]
          },
          "metadata": {},
          "execution_count": 5
        }
      ]
    },
    {
      "cell_type": "markdown",
      "source": [
        "문제 6. \n",
        "두 개의 딕셔너리 dct1과 dct2를 변수(arguments)로 받아 dct1과 dct2에 공통으로 포함된 key/value 쌍으로만 만든 새로운 딕셔너리를 리턴하는 함수를 작성하시오."
      ],
      "metadata": {
        "id": "JOvJZhVe7Ypn"
      }
    },
    {
      "cell_type": "code",
      "source": [
        "def P6(dct1: dict, dct2: dict) -> dict:\n",
        "    ### Write code here ###\n",
        "    output = {}\n",
        "    for i in dct1:\n",
        "      for j in dct2:\n",
        "        if i == j:\n",
        "          if dct1[i] == dct2[j]:\n",
        "            output.update({i: dct1[i]})\n",
        "    return output\n",
        "\n",
        "    ### End of your code ### "
      ],
      "metadata": {
        "id": "4kh0s8dUPYl7"
      },
      "execution_count": null,
      "outputs": []
    },
    {
      "cell_type": "code",
      "source": [
        "P6({'a': 1, 'b': True, 'c': [1,2]}, {'a': 1, 'b': 123, 'c': [1,2]})"
      ],
      "metadata": {
        "colab": {
          "base_uri": "https://localhost:8080/"
        },
        "id": "stjQnfV5RwQq",
        "outputId": "b5ed2a78-2889-4cc4-87ab-5a07db8c3645"
      },
      "execution_count": null,
      "outputs": [
        {
          "output_type": "execute_result",
          "data": {
            "text/plain": [
              "{'a': 1, 'c': [1, 2]}"
            ]
          },
          "metadata": {},
          "execution_count": 2
        }
      ]
    },
    {
      "cell_type": "code",
      "source": [
        "P6({'a': 1, 'b': True }, {'c': 1, 'd': 123, 'e': [1,2]})"
      ],
      "metadata": {
        "colab": {
          "base_uri": "https://localhost:8080/"
        },
        "id": "xBUfdZvpR4S_",
        "outputId": "ea570a63-8fd4-4ad0-8bfa-665e4f999652"
      },
      "execution_count": null,
      "outputs": [
        {
          "output_type": "execute_result",
          "data": {
            "text/plain": [
              "{}"
            ]
          },
          "metadata": {},
          "execution_count": 3
        }
      ]
    },
    {
      "cell_type": "code",
      "source": [
        "P6({}, {'c': 1, 'd': 123, 'e': [1,2]})"
      ],
      "metadata": {
        "colab": {
          "base_uri": "https://localhost:8080/"
        },
        "id": "4OdxRAm_S684",
        "outputId": "b1696c5d-632a-4528-a08b-9379a335f275"
      },
      "execution_count": null,
      "outputs": [
        {
          "output_type": "execute_result",
          "data": {
            "text/plain": [
              "{}"
            ]
          },
          "metadata": {},
          "execution_count": 4
        }
      ]
    },
    {
      "cell_type": "markdown",
      "source": [
        "문제 7. \n",
        "때때로 프로그래머들은 value가 딕셔너리로 이루어진 “Dictionary of dictionaries”를 간단한 데이터베이스로 이용한다. \n",
        "key가 문자열(string)이고 value가 딕셔너리 형태인 “Dictionary of dictionaries”를 다음과 같이 나타낼 수 있고, 이때 value는 “inner dictionary”라 한다.\n",
        "\n",
        "“Dictionary of dictionaries”를 변수(argument)로 받아 “inner dictionaries”가 모두 같은 key 값을 가지면 1, 아니면 0을 리턴하는 함수를 작성하시오."
      ],
      "metadata": {
        "id": "34HfU3OF7c2R"
      }
    },
    {
      "cell_type": "code",
      "source": [
        "def P7(dct: dict) -> int:\n",
        "    ### Write code here ###\n",
        "    key_list = []\n",
        "    for record in dct:\n",
        "      key_list.append(set(dct[record].keys()))\n",
        "\n",
        "    output_list = []\n",
        "    common_key = key_list[0]\n",
        "    for i in range(len(key_list)):\n",
        "      common_key = common_key.intersection(key_list[i])\n",
        "      if key_list[i] != common_key:\n",
        "        output_list.append(1)\n",
        "      else : \n",
        "        output_list.append(0)\n",
        "\n",
        "    if sum(output_list) > 0:\n",
        "      output = 0\n",
        "    else : \n",
        "      output = 1\n",
        "\n",
        "    return output\n",
        "\n",
        "    ### End of your code ###  "
      ],
      "metadata": {
        "id": "RJZqvFBFS8vT"
      },
      "execution_count": null,
      "outputs": []
    },
    {
      "cell_type": "code",
      "source": [
        "a = { 'jgoodall' : {'surname' : 'Goodall',\n",
        "                'forename' : 'Jane',\n",
        "                'born' : 1934,\n",
        "                'died' : None,\n",
        "                'notes' : 'primate researcher',\n",
        "                'author' : ['In the Shadow of Man','The Chimpanzees of Gombe']},\n",
        "    'rfranklin' : {'surname' : 'Franklin',\n",
        "                'forename' : 'Rosalind',\n",
        "                'born' : 1920,\n",
        "                'died' : 1957,\n",
        "                'notes' : 'contributed to discovery of DNA'},\n",
        "    'rcarson' : {'surname' : 'Carson',\n",
        "                'forename' : 'Rachel',\n",
        "                'born' : 1907,\n",
        "                'died' : 1964,\n",
        "                'notes' : 'raised awareness of effects of DDT',\n",
        "                'author' : ['Silent Spring'] }}\n"
      ],
      "metadata": {
        "id": "bDaf1lxuZQlw"
      },
      "execution_count": null,
      "outputs": []
    },
    {
      "cell_type": "code",
      "source": [
        "P7(a)"
      ],
      "metadata": {
        "colab": {
          "base_uri": "https://localhost:8080/"
        },
        "id": "9M6_Gcf1liL5",
        "outputId": "4ceb384f-383a-4e97-a2e3-3a89b4ed4ca2"
      },
      "execution_count": null,
      "outputs": [
        {
          "output_type": "execute_result",
          "data": {
            "text/plain": [
              "0"
            ]
          },
          "metadata": {},
          "execution_count": 3
        }
      ]
    },
    {
      "cell_type": "code",
      "source": [
        "P7({'a': {'aa':123, 'ab': [1,2]}, 'b': {'aa': 'bb', 'ab': 'cc'}})"
      ],
      "metadata": {
        "colab": {
          "base_uri": "https://localhost:8080/"
        },
        "id": "sZWHo_FflobF",
        "outputId": "69756b2e-2d45-42a7-f840-3af333d8d11c"
      },
      "execution_count": null,
      "outputs": [
        {
          "output_type": "execute_result",
          "data": {
            "text/plain": [
              "1"
            ]
          },
          "metadata": {},
          "execution_count": 4
        }
      ]
    },
    {
      "cell_type": "code",
      "source": [
        "P7({'A': {1: 'a', 2: 'b'}, 'B': {2: 'c', 3: 'd'}})"
      ],
      "metadata": {
        "colab": {
          "base_uri": "https://localhost:8080/"
        },
        "id": "mQvrcpwCl58m",
        "outputId": "80bed0be-a353-418e-d102-fd068a56c20b"
      },
      "execution_count": null,
      "outputs": [
        {
          "output_type": "execute_result",
          "data": {
            "text/plain": [
              "0"
            ]
          },
          "metadata": {},
          "execution_count": 5
        }
      ]
    },
    {
      "cell_type": "code",
      "source": [
        ""
      ],
      "metadata": {
        "id": "j3O5MW4l70qn"
      },
      "execution_count": null,
      "outputs": []
    },
    {
      "cell_type": "markdown",
      "source": [
        "문제 8. \n",
        "“Balanced color”는 red, green, blue 값을 합해서 1.0이 되는 것을 의미한다. Key가 ‘R’, ‘G’, ‘B’이고 각각의 value가 0과 1 사이인 딕셔너리를 변수(arguments)로 받아서 그 딕셔너리가 “Balanced color”를 의미하면 True, 아니면 False를 리턴하는 함수를 작성하시오.\n"
      ],
      "metadata": {
        "id": "rDdqHwSf7nfS"
      }
    },
    {
      "cell_type": "code",
      "source": [
        "def P8(dct: dict) -> bool:\n",
        "    ### Write code here ###\n",
        "    tmp = list(dct.values())\n",
        "    if sum(tmp) == 1:\n",
        "      output = True\n",
        "    else :\n",
        "      output = False\n",
        "    return output\n",
        "    ### End of your code ###   "
      ],
      "metadata": {
        "id": "rThpsfIYiKkJ"
      },
      "execution_count": null,
      "outputs": []
    },
    {
      "cell_type": "code",
      "source": [
        "P8({'R': 0.2, 'G': 0.3, 'B': 0.5})"
      ],
      "metadata": {
        "colab": {
          "base_uri": "https://localhost:8080/"
        },
        "id": "IJN5NSLcHr07",
        "outputId": "4aa8a16c-b47b-4fa3-c7fa-4474f73cb3ee"
      },
      "execution_count": null,
      "outputs": [
        {
          "output_type": "execute_result",
          "data": {
            "text/plain": [
              "True"
            ]
          },
          "metadata": {},
          "execution_count": 2
        }
      ]
    },
    {
      "cell_type": "code",
      "source": [
        "P8({'R': 0.2, 'G': 0.3, 'B': 0.6})\n"
      ],
      "metadata": {
        "colab": {
          "base_uri": "https://localhost:8080/"
        },
        "id": "hEPBy56ZI55o",
        "outputId": "428cf4ed-54a1-4d56-8b0e-ea0adf060b33"
      },
      "execution_count": null,
      "outputs": [
        {
          "output_type": "execute_result",
          "data": {
            "text/plain": [
              "False"
            ]
          },
          "metadata": {},
          "execution_count": 3
        }
      ]
    },
    {
      "cell_type": "code",
      "source": [
        "P8({'R': 0.1, 'G': 0.1, 'B': 0.1})"
      ],
      "metadata": {
        "colab": {
          "base_uri": "https://localhost:8080/"
        },
        "id": "RedNA3a9I504",
        "outputId": "f1995c9b-fe2a-427d-9cca-b399871ba21f"
      },
      "execution_count": null,
      "outputs": [
        {
          "output_type": "execute_result",
          "data": {
            "text/plain": [
              "False"
            ]
          },
          "metadata": {},
          "execution_count": 4
        }
      ]
    },
    {
      "cell_type": "markdown",
      "source": [
        "문제 9. \n",
        "다음과 같이 대부분의 원소가 0으로 되어있는 벡터를 “Sparse vector”라 한다.\n",
        "\n",
        "sparse_vector = [1, 0, 0, 0, 0, 0, 3, 0, 0, 0]\n",
        "\n",
        "이때 벡터를 모든 0을 포함한 형태로 리스트에 저장하면 메모리가 낭비되기 때문에 딕셔너리를 이용하여 0이 아닌 원소만 나타내기도 한다. 위의 벡터는 딕셔너리를 사용하여 다음과 같이 나타낼 수 있다. \n",
        "\n",
        "sparse_vector[0] = 1, sparse_vector[6] = 3 을 딕셔너리로 표현한 것이다.\n",
        "\n",
        "{0: 1, 6: 3}\n",
        "\n",
        "두 벡터의 dot product는 corresponding elements의 products의 sum이다. \n",
        "\n",
        "예를 들어 [1, 2, 3]과 [4, 5, 6]의 dot product는 4 + 10 + 18 = 32 이다. \n",
        "\n",
        "두 “Sparse vectors”를 변수(arguments)로 받아 그들의 dot product를 계산하는 함수를 작성하시오.\n"
      ],
      "metadata": {
        "id": "668jfUTF7pan"
      }
    },
    {
      "cell_type": "code",
      "source": [
        "def P9(dct1: dict, dct2: dict) -> int: \n",
        "    ### Write code here ###\n",
        "    common_key = []\n",
        "    for i in dct1:\n",
        "      for j in dct2:\n",
        "        if i == j:\n",
        "          common_key.append(i)\n",
        "    \n",
        "    product_list = []\n",
        "    for key in common_key:\n",
        "      pro_rst = dct1[key]*dct2[key]\n",
        "      product_list.append(pro_rst)\n",
        "\n",
        "    output = sum(product_list)\n",
        "            \n",
        "    return output\n",
        "    ### End of your code ###    "
      ],
      "metadata": {
        "id": "kMFedhSOI8Mn"
      },
      "execution_count": null,
      "outputs": []
    },
    {
      "cell_type": "code",
      "source": [
        "P9({0:1, 6:3}, {0:2, 5:2, 6:2, 7:1})"
      ],
      "metadata": {
        "colab": {
          "base_uri": "https://localhost:8080/"
        },
        "id": "dJ-I3-sBKqDo",
        "outputId": "13cd6d7b-9fb9-40a4-ecbf-9ad4c229564d"
      },
      "execution_count": null,
      "outputs": [
        {
          "output_type": "execute_result",
          "data": {
            "text/plain": [
              "8"
            ]
          },
          "metadata": {},
          "execution_count": 2
        }
      ]
    },
    {
      "cell_type": "code",
      "source": [
        "P9({0:1, 6:3}, {1:-1, 2:2, 3:2, 4:1})"
      ],
      "metadata": {
        "colab": {
          "base_uri": "https://localhost:8080/"
        },
        "id": "XD-TGGiaNZy7",
        "outputId": "6e644211-c850-41d9-d3cd-db554b3339b7"
      },
      "execution_count": null,
      "outputs": [
        {
          "output_type": "execute_result",
          "data": {
            "text/plain": [
              "0"
            ]
          },
          "metadata": {},
          "execution_count": 3
        }
      ]
    },
    {
      "cell_type": "code",
      "source": [
        "P9({0:1, 6:-3}, {0:-1, 6:3})"
      ],
      "metadata": {
        "colab": {
          "base_uri": "https://localhost:8080/"
        },
        "id": "g8JFat29NbVs",
        "outputId": "b8ad656e-7872-454b-8856-826a1b687368"
      },
      "execution_count": null,
      "outputs": [
        {
          "output_type": "execute_result",
          "data": {
            "text/plain": [
              "-10"
            ]
          },
          "metadata": {},
          "execution_count": 4
        }
      ]
    },
    {
      "cell_type": "markdown",
      "source": [
        "문제 10. \n",
        "“Query word” 주어지면 character중 하나를 꼭 바꿔서 “Changed word”를 만들어야 한다.\n",
        "단어 집합(set)과 “Query word”를 변수(arguments)로 받아서 “Changed word”가 단어 집합 내의 단어와 하나라도 일치하면 True, 하나도 일치하지 않으면 False를 리턴하는 함수를 작성하시오.\n",
        "\n",
        "<조건>\n",
        "1. 모든 단어는 소문자 알파벳으로만 구성되고 띄어쓰기는 없음\n",
        "2. “Query word”의 character 단 하나만 바꿀 수 있음\n",
        "3. character를 바꿀 때 삭제는 할 수 없음\n"
      ],
      "metadata": {
        "id": "KyPXCJgf79XH"
      }
    },
    {
      "cell_type": "code",
      "source": [
        "def P10(words: set, query_word: str) -> bool:\n",
        "    ### Write code here ###\n",
        "    output_list = []\n",
        "    for word in words:\n",
        "      if len(word) == len(query_word):\n",
        "        diff_letr = []\n",
        "        for i in range(len(word)):\n",
        "          if word[i] != query_word[i]:\n",
        "            diff_letr.append(i)\n",
        "\n",
        "        if len(diff_letr) == 1:\n",
        "          output_list.append(True)\n",
        "        else : \n",
        "          output_list.append(False)\n",
        "\n",
        "      else : \n",
        "        output_list.append(False)\n",
        "\n",
        "    if sum(output_list) > 0:\n",
        "      output = True\n",
        "    else :\n",
        "      output = False\n",
        "        \n",
        "    return output\n",
        "\n",
        "    ### End of your code ###  "
      ],
      "metadata": {
        "id": "Xx8hmMzGNcw4"
      },
      "execution_count": null,
      "outputs": []
    },
    {
      "cell_type": "code",
      "source": [
        "P10({\"data\", \"science\", \"scienze\"}, \"dtaa\")"
      ],
      "metadata": {
        "colab": {
          "base_uri": "https://localhost:8080/"
        },
        "id": "XTbVpEQohWFL",
        "outputId": "0c275045-9dea-4481-b184-eb605fa38c86"
      },
      "execution_count": null,
      "outputs": [
        {
          "output_type": "execute_result",
          "data": {
            "text/plain": [
              "False"
            ]
          },
          "metadata": {},
          "execution_count": 15
        }
      ]
    },
    {
      "cell_type": "code",
      "source": [
        "P10({\"data\", \"science\", \"scienze\"}, \"scienae\")"
      ],
      "metadata": {
        "colab": {
          "base_uri": "https://localhost:8080/"
        },
        "id": "anBPeKg7hDI9",
        "outputId": "e60ab88e-3f11-4638-b727-fae0a21bbe0e"
      },
      "execution_count": null,
      "outputs": [
        {
          "output_type": "execute_result",
          "data": {
            "text/plain": [
              "True"
            ]
          },
          "metadata": {},
          "execution_count": 6
        }
      ]
    },
    {
      "cell_type": "code",
      "source": [
        "P10({\"data\", \"science\", \"scienze\"}, \"scienzz\")"
      ],
      "metadata": {
        "colab": {
          "base_uri": "https://localhost:8080/"
        },
        "id": "6SAaad9chAMC",
        "outputId": "2ee3a7e2-f53d-45c2-e134-8fae89dc3028"
      },
      "execution_count": null,
      "outputs": [
        {
          "output_type": "execute_result",
          "data": {
            "text/plain": [
              "True"
            ]
          },
          "metadata": {},
          "execution_count": 5
        }
      ]
    },
    {
      "cell_type": "code",
      "source": [
        "P10({\"data\", \"science\"}, \"scienzz\")"
      ],
      "metadata": {
        "colab": {
          "base_uri": "https://localhost:8080/"
        },
        "id": "lmbAdZ-ag9qd",
        "outputId": "4c90284e-639d-44a4-a76e-284f6ce84441"
      },
      "execution_count": null,
      "outputs": [
        {
          "output_type": "execute_result",
          "data": {
            "text/plain": [
              "False"
            ]
          },
          "metadata": {},
          "execution_count": 4
        }
      ]
    },
    {
      "cell_type": "code",
      "source": [
        "P10({\"data\", \"science\"}, \"daaa\")"
      ],
      "metadata": {
        "colab": {
          "base_uri": "https://localhost:8080/"
        },
        "id": "z1M9dsfvg5sf",
        "outputId": "2c51de10-74e6-4a0b-8a1d-6aab1edd9b7a"
      },
      "execution_count": null,
      "outputs": [
        {
          "output_type": "execute_result",
          "data": {
            "text/plain": [
              "True"
            ]
          },
          "metadata": {},
          "execution_count": 3
        }
      ]
    },
    {
      "cell_type": "code",
      "source": [
        ""
      ],
      "metadata": {
        "id": "Qa2twCXYZMFE"
      },
      "execution_count": null,
      "outputs": []
    }
  ]
}