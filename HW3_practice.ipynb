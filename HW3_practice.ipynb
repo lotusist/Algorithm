{
  "nbformat": 4,
  "nbformat_minor": 0,
  "metadata": {
    "colab": {
      "name": "HW3 practice.ipynb",
      "provenance": [],
      "collapsed_sections": [],
      "authorship_tag": "ABX9TyPuucJn30UEjXcRPNrpbhNW"
    },
    "kernelspec": {
      "name": "python3",
      "display_name": "Python 3"
    },
    "language_info": {
      "name": "python"
    }
  },
  "cells": [
    {
      "cell_type": "markdown",
      "source": [
        "문제 1.\n",
        "정수(int)로만 구성된 리스트를 입력으로 받고, 리스트의 메서드(method)를 활용하여 아래의\n",
        "지시를 순서대로 따르는 함수 P1을 완성하세요.\n",
        "1. 입력으로 받은 리스트를 오름차순으로 정렬\n",
        "2. 리스트에서 1234 제거\n",
        "3. [4321, 2222]를 추가하여 리스트를 확장(extend)\n",
        "4. 1번 index 위치에 1111 추가 (주의: python의 index 규칙을 잘 확인할 것)"
      ],
      "metadata": {
        "id": "nJFX5R3s4cLs"
      }
    },
    {
      "cell_type": "code",
      "execution_count": null,
      "metadata": {
        "id": "uTGDsyzdYLcy"
      },
      "outputs": [],
      "source": [
        "from typing import List\n",
        "def P1(num_list: List[int]) -> List[int]:\n",
        "    num_list.sort()\n",
        "    num_list.remove(1234)\n",
        "    num_list.extend([4321, 2222])\n",
        "    num_list.insert(1, 1111)\n",
        "    return num_list"
      ]
    },
    {
      "cell_type": "code",
      "source": [
        "P1([1234,1011,3124])"
      ],
      "metadata": {
        "colab": {
          "base_uri": "https://localhost:8080/"
        },
        "id": "Lhvl8TiUZlgZ",
        "outputId": "b698dcd9-e6d3-41e1-c221-cc6b12828b01"
      },
      "execution_count": null,
      "outputs": [
        {
          "output_type": "execute_result",
          "data": {
            "text/plain": [
              "[1011, 1111, 3124, 4321, 2222]"
            ]
          },
          "metadata": {},
          "execution_count": 3
        }
      ]
    },
    {
      "cell_type": "code",
      "source": [
        "P1([7777,5555,8888,1234,9876])"
      ],
      "metadata": {
        "colab": {
          "base_uri": "https://localhost:8080/"
        },
        "id": "69shXnitZrcg",
        "outputId": "f1ef509f-4f33-4034-d976-f949be39b1a1"
      },
      "execution_count": null,
      "outputs": [
        {
          "output_type": "execute_result",
          "data": {
            "text/plain": [
              "[5555, 1111, 7777, 8888, 9876, 4321, 2222]"
            ]
          },
          "metadata": {},
          "execution_count": 4
        }
      ]
    },
    {
      "cell_type": "markdown",
      "source": [
        "문제 2.\n",
        "세 개의 리스트를 입력으로 받고, 가장 길이가 긴 리스트의 길이를 리턴하는 함수 P2를 작성하세요."
      ],
      "metadata": {
        "id": "cfXlgEvk4hIi"
      }
    },
    {
      "cell_type": "code",
      "source": [
        "def P2(L1: list, L2: list, L3: list) -> int:\n",
        "    ans = 0\n",
        "    ans += max(len(L1), len(L2), len(L3))\n",
        "    return ans"
      ],
      "metadata": {
        "id": "slodsjj8ZxbN"
      },
      "execution_count": null,
      "outputs": []
    },
    {
      "cell_type": "code",
      "source": [
        "P2([1], [2, 3], [4, 5, 6])"
      ],
      "metadata": {
        "colab": {
          "base_uri": "https://localhost:8080/"
        },
        "id": "0pakzO-QfenU",
        "outputId": "d895ba58-803d-4566-ed32-0f2b84090087"
      },
      "execution_count": null,
      "outputs": [
        {
          "output_type": "execute_result",
          "data": {
            "text/plain": [
              "3"
            ]
          },
          "metadata": {},
          "execution_count": 7
        }
      ]
    },
    {
      "cell_type": "code",
      "source": [
        "P2([10, 11, 12, 13], ['a'], [1.11])"
      ],
      "metadata": {
        "colab": {
          "base_uri": "https://localhost:8080/"
        },
        "id": "18VP1wj6fhkw",
        "outputId": "2dac0469-962f-4200-e4fe-64e9156b53ac"
      },
      "execution_count": null,
      "outputs": [
        {
          "output_type": "execute_result",
          "data": {
            "text/plain": [
              "4"
            ]
          },
          "metadata": {},
          "execution_count": 8
        }
      ]
    },
    {
      "cell_type": "markdown",
      "source": [
        "문제 3.\n",
        "정수로 구성된 리스트를 입력으로 받고 리스트 안의 값이 음수이면 양수로, 양수이면 음수로\n",
        "변경하여 리턴하는 함수 P3를 작성하세요."
      ],
      "metadata": {
        "id": "Iq6wfG8_4lvC"
      }
    },
    {
      "cell_type": "code",
      "source": [
        "from typing import List\n",
        "def P3(num_list: List[int]) -> List[int]:\n",
        "    ans_list = []\n",
        "    for element in num_list:\n",
        "      if element > 0 or element < 0:\n",
        "        ans_list.append(-element)\n",
        "      else : \n",
        "        ans_list.append(element)\n",
        "    return ans_list"
      ],
      "metadata": {
        "id": "F5e7R-gXfkn6"
      },
      "execution_count": null,
      "outputs": []
    },
    {
      "cell_type": "code",
      "source": [
        "P3([-1, 2])"
      ],
      "metadata": {
        "colab": {
          "base_uri": "https://localhost:8080/"
        },
        "id": "Ax36jjH8haGo",
        "outputId": "57ac8682-dc2c-47be-97cb-5befbbd2ad0f"
      },
      "execution_count": null,
      "outputs": [
        {
          "output_type": "execute_result",
          "data": {
            "text/plain": [
              "[1, -2]"
            ]
          },
          "metadata": {},
          "execution_count": 10
        }
      ]
    },
    {
      "cell_type": "code",
      "source": [
        "P3([66, 0, -11])"
      ],
      "metadata": {
        "colab": {
          "base_uri": "https://localhost:8080/"
        },
        "id": "1LSwyrpvhb3z",
        "outputId": "4892e4fa-354d-44be-a3cc-4737fb2bb751"
      },
      "execution_count": null,
      "outputs": [
        {
          "output_type": "execute_result",
          "data": {
            "text/plain": [
              "[-66, 0, 11]"
            ]
          },
          "metadata": {},
          "execution_count": 11
        }
      ]
    },
    {
      "cell_type": "markdown",
      "source": [
        "문제 4.\n",
        "중첩 리스트(nested list)를 입력으로 받고, 아래 조건을 만족하는 리스트를 리턴하는 함수 P4를\n",
        "작성하세요."
      ],
      "metadata": {
        "id": "GegTb2hU4o74"
      }
    },
    {
      "cell_type": "code",
      "source": [
        "from typing import List\n",
        "def P4(word_num_list: List[list]) -> list:\n",
        "    ans_list = []\n",
        "    for element in word_num_list:\n",
        "      ans_list.append(element[0])\n",
        "    ans_list.sort()\n",
        "    return ans_list"
      ],
      "metadata": {
        "id": "TGM8gy5Khdt0"
      },
      "execution_count": null,
      "outputs": []
    },
    {
      "cell_type": "code",
      "source": [
        "P4([['apple', 5], ['banana', 6]])"
      ],
      "metadata": {
        "colab": {
          "base_uri": "https://localhost:8080/"
        },
        "id": "wPm13w4Tih_e",
        "outputId": "13c85bde-b54a-41e8-def3-be7149a5c461"
      },
      "execution_count": null,
      "outputs": [
        {
          "output_type": "execute_result",
          "data": {
            "text/plain": [
              "['apple', 'banana']"
            ]
          },
          "metadata": {},
          "execution_count": 13
        }
      ]
    },
    {
      "cell_type": "code",
      "source": [
        "P4([['cup', 3], ['ace', 3], ['nice', 4], ['good', 4]])"
      ],
      "metadata": {
        "colab": {
          "base_uri": "https://localhost:8080/"
        },
        "id": "K_lwsyBrik2N",
        "outputId": "c92657e4-5612-4352-9c3c-9b10f37d3796"
      },
      "execution_count": null,
      "outputs": [
        {
          "output_type": "execute_result",
          "data": {
            "text/plain": [
              "['ace', 'cup', 'good', 'nice']"
            ]
          },
          "metadata": {},
          "execution_count": 14
        }
      ]
    },
    {
      "cell_type": "markdown",
      "source": [
        "문제 5.\n",
        "알파벳으로만 구성된 리스트를 입력으로 받고, 대문자가 처음으로 등장하는 index를 리턴하는\n",
        "함수 P5을 작성하세요. "
      ],
      "metadata": {
        "id": "S7PUI3n_4uV2"
      }
    },
    {
      "cell_type": "code",
      "source": [
        "from typing import List\n",
        "def P5(alphabet_list: List[str]) -> int:\n",
        "    idx = 0\n",
        "    for alphabet in alphabet_list:\n",
        "      if alphabet.isupper() == True:\n",
        "        idx = alphabet_list.index(alphabet)\n",
        "        break\n",
        "      else : \n",
        "        idx = -1\n",
        "    return idx"
      ],
      "metadata": {
        "id": "5NfmqrKSinm3"
      },
      "execution_count": null,
      "outputs": []
    },
    {
      "cell_type": "code",
      "source": [
        "P5(['a', 'B', 'c', 'D'])"
      ],
      "metadata": {
        "colab": {
          "base_uri": "https://localhost:8080/"
        },
        "id": "6xhu5qoMlE0N",
        "outputId": "c59cc049-9a63-4bb5-ba9e-3f18ee544d44"
      },
      "execution_count": null,
      "outputs": [
        {
          "output_type": "execute_result",
          "data": {
            "text/plain": [
              "1"
            ]
          },
          "metadata": {},
          "execution_count": 2
        }
      ]
    },
    {
      "cell_type": "code",
      "source": [
        "P5(['z', 'b', 'k', 'D', 'I', 'q'])"
      ],
      "metadata": {
        "colab": {
          "base_uri": "https://localhost:8080/"
        },
        "id": "03PwOrzHlH9E",
        "outputId": "d4932a5d-ad0d-4c71-de4f-5e17a125dafb"
      },
      "execution_count": null,
      "outputs": [
        {
          "output_type": "execute_result",
          "data": {
            "text/plain": [
              "3"
            ]
          },
          "metadata": {},
          "execution_count": 3
        }
      ]
    },
    {
      "cell_type": "code",
      "source": [
        "P5(['a', 'b'])"
      ],
      "metadata": {
        "colab": {
          "base_uri": "https://localhost:8080/"
        },
        "id": "LIolpmejlRtR",
        "outputId": "3cc8385e-c101-4809-f260-551c0ee7f34c"
      },
      "execution_count": null,
      "outputs": [
        {
          "output_type": "execute_result",
          "data": {
            "text/plain": [
              "-1"
            ]
          },
          "metadata": {},
          "execution_count": 4
        }
      ]
    },
    {
      "cell_type": "markdown",
      "source": [
        "문제 6.\n",
        "정수 2개를 입력으로 받고, 아래 조건을 만족하는 리스트를 리턴하는 함수 P6를 작성하세요."
      ],
      "metadata": {
        "id": "sJX3MxGa42i-"
      }
    },
    {
      "cell_type": "code",
      "source": [
        "from typing import List\n",
        "def P6(n1: int, n2: int) -> List[int]:\n",
        "    ans_list = []\n",
        "    if n1 != n2:\n",
        "      for i in range(min(n1, n2), max(n1, n2)):\n",
        "        ans_list.append(i)\n",
        "      ans_list.append(max(n1, n2))\n",
        "      ans_list.sort(reverse = True)\n",
        "    else :\n",
        "      ans_list.append(n1)\n",
        "    return ans_list"
      ],
      "metadata": {
        "id": "h8RotPkWmi5g"
      },
      "execution_count": null,
      "outputs": []
    },
    {
      "cell_type": "code",
      "source": [
        "P6(3, 9)"
      ],
      "metadata": {
        "colab": {
          "base_uri": "https://localhost:8080/"
        },
        "id": "weyXBn7Gnpk9",
        "outputId": "d4875cfd-958a-48bd-b6fc-27772ba0a613"
      },
      "execution_count": null,
      "outputs": [
        {
          "output_type": "execute_result",
          "data": {
            "text/plain": [
              "[9, 8, 7, 6, 5, 4, 3]"
            ]
          },
          "metadata": {},
          "execution_count": 16
        }
      ]
    },
    {
      "cell_type": "code",
      "source": [
        "P6(2, -1)"
      ],
      "metadata": {
        "colab": {
          "base_uri": "https://localhost:8080/"
        },
        "id": "Lf77jZThnr1q",
        "outputId": "de20fc08-0759-4572-f881-e43ad9015ea8"
      },
      "execution_count": null,
      "outputs": [
        {
          "output_type": "execute_result",
          "data": {
            "text/plain": [
              "[2, 1, 0, -1]"
            ]
          },
          "metadata": {},
          "execution_count": 17
        }
      ]
    },
    {
      "cell_type": "code",
      "source": [
        "P6(100, 100)"
      ],
      "metadata": {
        "colab": {
          "base_uri": "https://localhost:8080/"
        },
        "id": "VxQASu-io8Vv",
        "outputId": "1e0735c4-d999-4beb-800a-9ae383e15971"
      },
      "execution_count": null,
      "outputs": [
        {
          "output_type": "execute_result",
          "data": {
            "text/plain": [
              "[100]"
            ]
          },
          "metadata": {},
          "execution_count": 18
        }
      ]
    },
    {
      "cell_type": "markdown",
      "source": [
        "문제 7.\n",
        "리스트를 입력으로 받고, 리스트의 각 원소에 1을 더한 후 리턴하는 함수 P7를 작성하세요."
      ],
      "metadata": {
        "id": "NP1547vn46CT"
      }
    },
    {
      "cell_type": "code",
      "source": [
        "def P7(L1: list) -> list:\n",
        "    ans_list = []\n",
        "    for i in L1:\n",
        "      ans_list.append(i+1)\n",
        "    return ans_list"
      ],
      "metadata": {
        "id": "nDgYR-P6pszQ"
      },
      "execution_count": null,
      "outputs": []
    },
    {
      "cell_type": "code",
      "source": [
        "P7([5, 4, 7, 3, 2, 3, 2, 6, 4, 2, 1, 7, 1, 3])"
      ],
      "metadata": {
        "colab": {
          "base_uri": "https://localhost:8080/"
        },
        "id": "daiSQ9CiqEJE",
        "outputId": "e01e6ad2-c0b8-4b33-cb1f-26edf7d64c8a"
      },
      "execution_count": null,
      "outputs": [
        {
          "output_type": "execute_result",
          "data": {
            "text/plain": [
              "[6, 5, 8, 4, 3, 4, 3, 7, 5, 3, 2, 8, 2, 4]"
            ]
          },
          "metadata": {},
          "execution_count": 20
        }
      ]
    },
    {
      "cell_type": "code",
      "source": [
        "P7([0, 0, 0])"
      ],
      "metadata": {
        "colab": {
          "base_uri": "https://localhost:8080/"
        },
        "id": "14mRbYT6qF4A",
        "outputId": "09761fa1-84b2-4154-ee51-ba148c8a9908"
      },
      "execution_count": null,
      "outputs": [
        {
          "output_type": "execute_result",
          "data": {
            "text/plain": [
              "[1, 1, 1]"
            ]
          },
          "metadata": {},
          "execution_count": 21
        }
      ]
    },
    {
      "cell_type": "markdown",
      "source": [
        "문제 8.\n",
        "숫자로 구성된 리스트를 입력으로 받고, 해당 리스트에서 음수만 제거하는 함수 P8를 작성하세요."
      ],
      "metadata": {
        "id": "dFIdHW6n4-X0"
      }
    },
    {
      "cell_type": "code",
      "source": [
        "from typing import List\n",
        "def P8(num_list: List[float]):\n",
        "    ans_list = []\n",
        "    for i in num_list:\n",
        "      if i >= 0:\n",
        "        ans_list.append(i)\n",
        "    return ans_list"
      ],
      "metadata": {
        "id": "DsG4JxN7qIzd"
      },
      "execution_count": null,
      "outputs": []
    },
    {
      "cell_type": "code",
      "source": [
        "P8([1, 2, 3, -3, 6, -1, -3, 1])"
      ],
      "metadata": {
        "colab": {
          "base_uri": "https://localhost:8080/"
        },
        "id": "d2ap-ZOJqd7d",
        "outputId": "bcafa0b5-6cfa-494b-b16f-f792625758bc"
      },
      "execution_count": null,
      "outputs": [
        {
          "output_type": "execute_result",
          "data": {
            "text/plain": [
              "[1, 2, 3, 6, 1]"
            ]
          },
          "metadata": {},
          "execution_count": 25
        }
      ]
    },
    {
      "cell_type": "code",
      "source": [
        "P8([-5, 1, -3, 2])"
      ],
      "metadata": {
        "colab": {
          "base_uri": "https://localhost:8080/"
        },
        "id": "RHHrBcEQqgXD",
        "outputId": "b4353f90-f4a5-400f-8684-e878db825723"
      },
      "execution_count": null,
      "outputs": [
        {
          "output_type": "execute_result",
          "data": {
            "text/plain": [
              "[1, 2]"
            ]
          },
          "metadata": {},
          "execution_count": 26
        }
      ]
    },
    {
      "cell_type": "markdown",
      "source": [
        "문제 9.\n",
        "중첩 리스트(nested list)를 입력으로 받고, 안쪽 리스트 중 첫 리스트의 첫 원소와 마지막 리스트의\n",
        "마지막 원소를 리턴하는 함수 P9를 작성하세요."
      ],
      "metadata": {
        "id": "Bu-yfgYc5B9b"
      }
    },
    {
      "cell_type": "code",
      "source": [
        "def P9(nested_list: list) -> list:    \n",
        "    ans_list = []\n",
        "    ans_list.append(nested_list[0][0])\n",
        "    ans_list.append(nested_list[1][-1])\n",
        "    return ans_list"
      ],
      "metadata": {
        "id": "hWNwBzgVqomF"
      },
      "execution_count": null,
      "outputs": []
    },
    {
      "cell_type": "code",
      "source": [
        "P9([['km','miles','league'],['kg','pound','stone']])"
      ],
      "metadata": {
        "colab": {
          "base_uri": "https://localhost:8080/"
        },
        "id": "Q3Cd29n0q_lA",
        "outputId": "37134306-f543-44de-b7cf-884f6f8bea6e"
      },
      "execution_count": null,
      "outputs": [
        {
          "output_type": "execute_result",
          "data": {
            "text/plain": [
              "['km', 'stone']"
            ]
          },
          "metadata": {},
          "execution_count": 28
        }
      ]
    },
    {
      "cell_type": "code",
      "source": [
        "P9([[0,1,2,3],[4,5,6]])"
      ],
      "metadata": {
        "colab": {
          "base_uri": "https://localhost:8080/"
        },
        "id": "aFhYsCWzrBTm",
        "outputId": "7cc74472-a303-485e-b942-e072d9b1dfa4"
      },
      "execution_count": null,
      "outputs": [
        {
          "output_type": "execute_result",
          "data": {
            "text/plain": [
              "[0, 6]"
            ]
          },
          "metadata": {},
          "execution_count": 29
        }
      ]
    },
    {
      "cell_type": "code",
      "source": [
        "P9([[0,0,0],[1]])"
      ],
      "metadata": {
        "colab": {
          "base_uri": "https://localhost:8080/"
        },
        "id": "IkuOgCOPrDDv",
        "outputId": "c98b6c50-01cf-4b28-eabd-9f1705ba0234"
      },
      "execution_count": null,
      "outputs": [
        {
          "output_type": "execute_result",
          "data": {
            "text/plain": [
              "[0, 1]"
            ]
          },
          "metadata": {},
          "execution_count": 30
        }
      ]
    },
    {
      "cell_type": "markdown",
      "source": [
        "문제 10.\n",
        "rat_1, rat_2는 두 마리의 rat의 무게를 열흘 간 매일 측정하여 기록해놓은 리스트이다. 두 리스트와\n",
        "1과 10 사이의 숫자가 하나가 주어졌을 때, 해당 숫자에 해당하는 날에 1번 rat의 무게가 더\n",
        "높았으면 True, 아니라면 False를 리턴하는 함수 P10을 작성하세요."
      ],
      "metadata": {
        "id": "dmf_E1NI5Gqh"
      }
    },
    {
      "cell_type": "code",
      "source": [
        "def P10(rat_1: list, rat_2: list, measure_day: int) -> bool:  \n",
        "    is_greater = 0  \n",
        "    if rat_1[measure_day - 1] > rat_2[measure_day - 1]:\n",
        "      is_greater = True\n",
        "    elif rat_1[measure_day - 1] < rat_2[measure_day - 1]:\n",
        "      is_greater = False\n",
        "    return is_greater"
      ],
      "metadata": {
        "id": "uAi9z7YhrEfT"
      },
      "execution_count": null,
      "outputs": []
    },
    {
      "cell_type": "code",
      "source": [
        "rat_1 = [5, 6, 7, 6, 7, 8, 10, 9, 8, 10]\n",
        "rat_2 = [7, 8, 6, 7, 8, 10, 9, 8, 10, 11]"
      ],
      "metadata": {
        "id": "xlyjTkCurhLv"
      },
      "execution_count": null,
      "outputs": []
    },
    {
      "cell_type": "code",
      "source": [
        "P10(rat_1, rat_2, 1)"
      ],
      "metadata": {
        "colab": {
          "base_uri": "https://localhost:8080/"
        },
        "id": "BWgStY81sOaT",
        "outputId": "26aeeaa8-b06d-48a6-e9c2-09199669b659"
      },
      "execution_count": null,
      "outputs": [
        {
          "output_type": "execute_result",
          "data": {
            "text/plain": [
              "False"
            ]
          },
          "metadata": {},
          "execution_count": 33
        }
      ]
    },
    {
      "cell_type": "code",
      "source": [
        "P10(rat_1, rat_2, 5)"
      ],
      "metadata": {
        "colab": {
          "base_uri": "https://localhost:8080/"
        },
        "id": "8nkSjf1qsQD0",
        "outputId": "7879c505-dc83-4b4e-cacb-b259c8e889d7"
      },
      "execution_count": null,
      "outputs": [
        {
          "output_type": "execute_result",
          "data": {
            "text/plain": [
              "False"
            ]
          },
          "metadata": {},
          "execution_count": 34
        }
      ]
    },
    {
      "cell_type": "code",
      "source": [
        "P10(rat_1, rat_2, 3)"
      ],
      "metadata": {
        "colab": {
          "base_uri": "https://localhost:8080/"
        },
        "id": "o1jXDQl4sRn5",
        "outputId": "4f67ab10-aa7e-49d9-9127-8a1f7d96a553"
      },
      "execution_count": null,
      "outputs": [
        {
          "output_type": "execute_result",
          "data": {
            "text/plain": [
              "True"
            ]
          },
          "metadata": {},
          "execution_count": 35
        }
      ]
    }
  ]
}